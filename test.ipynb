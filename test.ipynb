{
 "cells": [
  {
   "cell_type": "code",
   "execution_count": 2,
   "metadata": {},
   "outputs": [],
   "source": [
    "from geopy.geocoders import ArcGIS,Nominatim\n",
    "\n",
    "import geocoder"
   ]
  },
  {
   "cell_type": "code",
   "execution_count": 2,
   "metadata": {},
   "outputs": [],
   "source": [
    "nom = ArcGIS()"
   ]
  },
  {
   "cell_type": "code",
   "execution_count": 54,
   "metadata": {},
   "outputs": [],
   "source": [
    "s = nom.geocode('Dar es Salaam Institute of Technology')"
   ]
  },
  {
   "cell_type": "code",
   "execution_count": 12,
   "metadata": {},
   "outputs": [
    {
     "data": {
      "text/plain": [
       "39.28006606512265"
      ]
     },
     "execution_count": 12,
     "metadata": {},
     "output_type": "execute_result"
    }
   ],
   "source": [
    "geolocator = Nominatim(user_agent=\"my-app\")  # Create a geolocator object\n",
    "location = geocoder.osm('Dar es salaam Institute of Technology,Dar es salaam')\n",
    "location.lat\n",
    "location.lng\n",
    "    # Reverse geocode the coordinates\n",
    "# location = geolocator.reverse((-6.807639999999935, 39.280410000000074), exactly_one=True)"
   ]
  },
  {
   "cell_type": "code",
   "execution_count": 5,
   "metadata": {},
   "outputs": [
    {
     "data": {
      "text/plain": [
       "'Upanga House, Mfaume Street, Upanga Mashariki, Ilala Municipal, Dar es Salaam, Coastal Zone, 11106, Tanzania'"
      ]
     },
     "execution_count": 5,
     "metadata": {},
     "output_type": "execute_result"
    }
   ],
   "source": [
    "location.address"
   ]
  },
  {
   "cell_type": "code",
   "execution_count": 73,
   "metadata": {},
   "outputs": [
    {
     "data": {
      "text/plain": [
       "-6.8160837"
      ]
     },
     "execution_count": 73,
     "metadata": {},
     "output_type": "execute_result"
    }
   ],
   "source": [
    "location.lat"
   ]
  },
  {
   "cell_type": "code",
   "execution_count": 55,
   "metadata": {},
   "outputs": [
    {
     "name": "stdout",
     "output_type": "stream",
     "text": [
      "-6.815789999999936\n",
      "39.280410000000074\n"
     ]
    }
   ],
   "source": [
    "print(s.latitude)\n",
    "print(s.longitude)"
   ]
  },
  {
   "cell_type": "code",
   "execution_count": 20,
   "metadata": {},
   "outputs": [],
   "source": [
    "import folium"
   ]
  },
  {
   "cell_type": "code",
   "execution_count": 21,
   "metadata": {},
   "outputs": [],
   "source": [
    "map = folium.Map(location=[-6.986593994999964,39.40015734700006],zoom_start=14)"
   ]
  },
  {
   "cell_type": "code",
   "execution_count": 22,
   "metadata": {},
   "outputs": [
    {
     "data": {
      "text/html": [
       "<div style=\"width:100%;\"><div style=\"position:relative;width:100%;height:0;padding-bottom:60%;\"><span style=\"color:#565656\">Make this Notebook Trusted to load map: File -> Trust Notebook</span><iframe srcdoc=\"&lt;!DOCTYPE html&gt;\n",
       "&lt;html&gt;\n",
       "&lt;head&gt;\n",
       "    \n",
       "    &lt;meta http-equiv=&quot;content-type&quot; content=&quot;text/html; charset=UTF-8&quot; /&gt;\n",
       "    \n",
       "        &lt;script&gt;\n",
       "            L_NO_TOUCH = false;\n",
       "            L_DISABLE_3D = false;\n",
       "        &lt;/script&gt;\n",
       "    \n",
       "    &lt;style&gt;html, body {width: 100%;height: 100%;margin: 0;padding: 0;}&lt;/style&gt;\n",
       "    &lt;style&gt;#map {position:absolute;top:0;bottom:0;right:0;left:0;}&lt;/style&gt;\n",
       "    &lt;script src=&quot;https://cdn.jsdelivr.net/npm/leaflet@1.9.3/dist/leaflet.js&quot;&gt;&lt;/script&gt;\n",
       "    &lt;script src=&quot;https://code.jquery.com/jquery-1.12.4.min.js&quot;&gt;&lt;/script&gt;\n",
       "    &lt;script src=&quot;https://cdn.jsdelivr.net/npm/bootstrap@5.2.2/dist/js/bootstrap.bundle.min.js&quot;&gt;&lt;/script&gt;\n",
       "    &lt;script src=&quot;https://cdnjs.cloudflare.com/ajax/libs/Leaflet.awesome-markers/2.0.2/leaflet.awesome-markers.js&quot;&gt;&lt;/script&gt;\n",
       "    &lt;link rel=&quot;stylesheet&quot; href=&quot;https://cdn.jsdelivr.net/npm/leaflet@1.9.3/dist/leaflet.css&quot;/&gt;\n",
       "    &lt;link rel=&quot;stylesheet&quot; href=&quot;https://cdn.jsdelivr.net/npm/bootstrap@5.2.2/dist/css/bootstrap.min.css&quot;/&gt;\n",
       "    &lt;link rel=&quot;stylesheet&quot; href=&quot;https://netdna.bootstrapcdn.com/bootstrap/3.0.0/css/bootstrap.min.css&quot;/&gt;\n",
       "    &lt;link rel=&quot;stylesheet&quot; href=&quot;https://cdn.jsdelivr.net/npm/@fortawesome/fontawesome-free@6.2.0/css/all.min.css&quot;/&gt;\n",
       "    &lt;link rel=&quot;stylesheet&quot; href=&quot;https://cdnjs.cloudflare.com/ajax/libs/Leaflet.awesome-markers/2.0.2/leaflet.awesome-markers.css&quot;/&gt;\n",
       "    &lt;link rel=&quot;stylesheet&quot; href=&quot;https://cdn.jsdelivr.net/gh/python-visualization/folium/folium/templates/leaflet.awesome.rotate.min.css&quot;/&gt;\n",
       "    \n",
       "            &lt;meta name=&quot;viewport&quot; content=&quot;width=device-width,\n",
       "                initial-scale=1.0, maximum-scale=1.0, user-scalable=no&quot; /&gt;\n",
       "            &lt;style&gt;\n",
       "                #map_c90cb78d8db88285c3d72c66ddd76559 {\n",
       "                    position: relative;\n",
       "                    width: 100.0%;\n",
       "                    height: 100.0%;\n",
       "                    left: 0.0%;\n",
       "                    top: 0.0%;\n",
       "                }\n",
       "                .leaflet-container { font-size: 1rem; }\n",
       "            &lt;/style&gt;\n",
       "        \n",
       "&lt;/head&gt;\n",
       "&lt;body&gt;\n",
       "    \n",
       "    \n",
       "            &lt;div class=&quot;folium-map&quot; id=&quot;map_c90cb78d8db88285c3d72c66ddd76559&quot; &gt;&lt;/div&gt;\n",
       "        \n",
       "&lt;/body&gt;\n",
       "&lt;script&gt;\n",
       "    \n",
       "    \n",
       "            var map_c90cb78d8db88285c3d72c66ddd76559 = L.map(\n",
       "                &quot;map_c90cb78d8db88285c3d72c66ddd76559&quot;,\n",
       "                {\n",
       "                    center: [-6.986593994999964, 39.40015734700006],\n",
       "                    crs: L.CRS.EPSG3857,\n",
       "                    zoom: 14,\n",
       "                    zoomControl: true,\n",
       "                    preferCanvas: false,\n",
       "                }\n",
       "            );\n",
       "\n",
       "            \n",
       "\n",
       "        \n",
       "    \n",
       "            var tile_layer_c7ef466b9d0dac5b2114375e21b19aca = L.tileLayer(\n",
       "                &quot;https://{s}.tile.openstreetmap.org/{z}/{x}/{y}.png&quot;,\n",
       "                {&quot;attribution&quot;: &quot;Data by \\u0026copy; \\u003ca target=\\&quot;_blank\\&quot; href=\\&quot;http://openstreetmap.org\\&quot;\\u003eOpenStreetMap\\u003c/a\\u003e, under \\u003ca target=\\&quot;_blank\\&quot; href=\\&quot;http://www.openstreetmap.org/copyright\\&quot;\\u003eODbL\\u003c/a\\u003e.&quot;, &quot;detectRetina&quot;: false, &quot;maxNativeZoom&quot;: 18, &quot;maxZoom&quot;: 18, &quot;minZoom&quot;: 0, &quot;noWrap&quot;: false, &quot;opacity&quot;: 1, &quot;subdomains&quot;: &quot;abc&quot;, &quot;tms&quot;: false}\n",
       "            ).addTo(map_c90cb78d8db88285c3d72c66ddd76559);\n",
       "        \n",
       "    \n",
       "            var marker_fa165bae48329bb36798c5478db43416 = L.marker(\n",
       "                [-6.986593994999964, 39.40015734700006],\n",
       "                {}\n",
       "            ).addTo(map_c90cb78d8db88285c3d72c66ddd76559);\n",
       "        \n",
       "    \n",
       "            var icon_a49a09dfdc13fb1d6e2560fb83292de1 = L.AwesomeMarkers.icon(\n",
       "                {&quot;extraClasses&quot;: &quot;fa-rotate-0&quot;, &quot;icon&quot;: &quot;info-sign&quot;, &quot;iconColor&quot;: &quot;white&quot;, &quot;markerColor&quot;: &quot;green&quot;, &quot;prefix&quot;: &quot;glyphicon&quot;}\n",
       "            );\n",
       "            marker_fa165bae48329bb36798c5478db43416.setIcon(icon_a49a09dfdc13fb1d6e2560fb83292de1);\n",
       "        \n",
       "    \n",
       "        var popup_4261ebf9c7d096857fa8c059b7f9c368 = L.popup({&quot;maxWidth&quot;: &quot;100%&quot;});\n",
       "\n",
       "        \n",
       "            \n",
       "                var html_87674212372f2700aa706e5525a87ce6 = $(`&lt;div id=&quot;html_87674212372f2700aa706e5525a87ce6&quot; style=&quot;width: 100.0%; height: 100.0%;&quot;&gt;tkd&lt;/div&gt;`)[0];\n",
       "                popup_4261ebf9c7d096857fa8c059b7f9c368.setContent(html_87674212372f2700aa706e5525a87ce6);\n",
       "            \n",
       "        \n",
       "\n",
       "        marker_fa165bae48329bb36798c5478db43416.bindPopup(popup_4261ebf9c7d096857fa8c059b7f9c368)\n",
       "        ;\n",
       "\n",
       "        \n",
       "    \n",
       "&lt;/script&gt;\n",
       "&lt;/html&gt;\" style=\"position:absolute;width:100%;height:100%;left:0;top:0;border:none !important;\" allowfullscreen webkitallowfullscreen mozallowfullscreen></iframe></div></div>"
      ],
      "text/plain": [
       "<folium.folium.Map at 0x23dc016ad90>"
      ]
     },
     "execution_count": 22,
     "metadata": {},
     "output_type": "execute_result"
    }
   ],
   "source": [
    "map.add_child(folium.Marker(location=[-6.986593994999964,39.40015734700006],popup='tkd',icon=folium.Icon(color='green')))"
   ]
  },
  {
   "cell_type": "code",
   "execution_count": 8,
   "metadata": {},
   "outputs": [
    {
     "data": {
      "text/plain": [
       "[2, 5]"
      ]
     },
     "execution_count": 8,
     "metadata": {},
     "output_type": "execute_result"
    }
   ],
   "source": [
    "def location(lat,long):\n",
    "    \n",
    "    data = []\n",
    "    \n",
    "    data.append(lat)\n",
    "    data.append(long)\n",
    "    \n",
    "    return data\n",
    "\n",
    "\n",
    "location(2,5)"
   ]
  },
  {
   "cell_type": "code",
   "execution_count": 2,
   "metadata": {},
   "outputs": [
    {
     "name": "stdout",
     "output_type": "stream",
     "text": [
      "Current Date and Time: 2023-06-08 21:31:27.969377\n",
      "Date and Time 5 Minutes Later: 2023-06-08 21:36:27.969377\n"
     ]
    }
   ],
   "source": [
    "from django.utils import timezone\n",
    "from datetime import datetime, timedelta\n",
    "\n",
    "# Get current date and time\n",
    "current_time = datetime.now()\n",
    "print(\"Current Date and Time:\", current_time)\n",
    "\n",
    "# Calculate the date and time 5 minutes later\n",
    "later_time = current_time + timedelta(minutes=5)\n",
    "print(\"Date and Time 5 Minutes Later:\", later_time)\n"
   ]
  },
  {
   "cell_type": "code",
   "execution_count": 3,
   "metadata": {},
   "outputs": [
    {
     "name": "stdout",
     "output_type": "stream",
     "text": [
      "Hello\n"
     ]
    }
   ],
   "source": [
    "import datetime\n",
    "import time\n",
    "\n",
    "# Get current date and time\n",
    "current_time = datetime.datetime.now()\n",
    "\n",
    "# Wait for 5 minutes\n",
    "time.sleep(30)  # 300 seconds = 5 minutes\n",
    "\n",
    "# Print \"Hello\" after 5 minutes\n",
    "print(\"Hello\")\n"
   ]
  },
  {
   "cell_type": "code",
   "execution_count": 13,
   "metadata": {},
   "outputs": [
    {
     "name": "stdout",
     "output_type": "stream",
     "text": [
      "Current Date and Time: 2023-06-08 22:29:14.047328\n",
      "Date and Time 5 Minutes Later: 2023-06-08 22:34:14.047328\n"
     ]
    }
   ],
   "source": [
    "from django.utils import timezone\n",
    "from datetime import datetime, timedelta\n",
    "# y,m,d = datetime.now().date().strftime(\"%Y-%m-%d\").split('-')\n",
    "# h,m = datetime.now().date().strftime(\"%H:%M\").split(':')\n",
    "# Get current date and time\n",
    "current_time = datetime.now()\n",
    "print(\"Current Date and Time:\", current_time)\n",
    "# date = datetime.datetime(int(y),int(m),int(d),int(h),int(mm))\n",
    "# Calculate the date and time 5 minutes later\n",
    "later_time = current_time + timedelta(minutes=5)\n",
    "# later_time = later_time\n",
    "print(\"Date and Time 5 Minutes Later:\", later_time)\n",
    "\n",
    "# Compare current time with later time\n",
    "# if current_time < later_time:\n",
    "#     print(\"Current time is earlier than later time.\")\n",
    "# elif current_time > later_time:\n",
    "#     print(\"Current time is later than later time.\")\n",
    "# else:\n",
    "#     print(\"Current time and later time are the same.\")\n"
   ]
  },
  {
   "cell_type": "code",
   "execution_count": null,
   "metadata": {},
   "outputs": [],
   "source": []
  }
 ],
 "metadata": {
  "kernelspec": {
   "display_name": "Python 3",
   "language": "python",
   "name": "python3"
  },
  "language_info": {
   "codemirror_mode": {
    "name": "ipython",
    "version": 3
   },
   "file_extension": ".py",
   "mimetype": "text/x-python",
   "name": "python",
   "nbconvert_exporter": "python",
   "pygments_lexer": "ipython3",
   "version": "3.7.16"
  },
  "orig_nbformat": 4
 },
 "nbformat": 4,
 "nbformat_minor": 2
}
